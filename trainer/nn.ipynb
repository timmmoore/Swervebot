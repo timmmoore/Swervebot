{
 "cells": [
  {
   "cell_type": "code",
   "execution_count": 9,
   "metadata": {},
   "outputs": [],
   "source": [
    "import keras\n",
    "from keras.layers import Dense\n",
    "from keras.models import Sequential\n",
    "from keras import optimizers\n",
    "from keras import backend as K\n",
    "import numpy as np\n",
    "\n",
    "from matplotlib import pyplot as plt\n",
    "from IPython.display import clear_output"
   ]
  },
  {
   "cell_type": "code",
   "execution_count": 10,
   "metadata": {
    "collapsed": true
   },
   "outputs": [],
   "source": [
    "#training data from https://github.com/IdleHandsProject/makennbot\n",
    "x_train = [\n",
    "  [ 0.0, 0.0, 0.0, 0.0, 0.0],\n",
    "  [ 1.0, 1.0, 1.0, 1.0, 1.0],\n",
    "  [ 0.0, 0.0, 1.0, 0.0, 0.0],\n",
    "  [ 0.0, 1.0, 1.0, 1.0, 0.0],\n",
    "  [ 0.5, 0.5, 0.5, 0.5, 0.5],\n",
    "  [ 0.0, 0.0, 0.5, 0.0, 0.0],\n",
    "]\n",
    "y_train = [\n",
    "  [ 1.0, 1.0],\n",
    "  [ 0.0, 0.0],\n",
    "  [ 0.6, 0.7],\n",
    "  [ 0.8, 0.2],\n",
    "  [ 0.6, 0.6],\n",
    "  [ 0.5, 0.6],\n",
    "]\n",
    "\n",
    "x_train = np.array(x_train)\n",
    "y_train = np.array(y_train)"
   ]
  },
  {
   "cell_type": "code",
   "execution_count": 11,
   "metadata": {
    "collapsed": true
   },
   "outputs": [],
   "source": [
    "model = Sequential()\n",
    "\n",
    "IN = x_train.shape[1]\n",
    "HIDDEN = IN + 1\n",
    "OUT = y_train.shape[1]\n",
    "\n",
    "model.add(Dense(units=HIDDEN, activation='sigmoid', input_dim=IN, dtype='float16'))\n",
    "model.add(Dense(units=HIDDEN, activation='sigmoid', dtype='float16'))\n",
    "model.add(Dense(units=OUT, activation='sigmoid', dtype='float16'))\n",
    "\n",
    "model.compile(loss='mean_squared_error',\n",
    "              optimizer=optimizers.SGD(learning_rate=0.5, momentum=0.9))\n"
   ]
  },
  {
   "cell_type": "code",
   "execution_count": 12,
   "metadata": {
    "collapsed": true
   },
   "outputs": [],
   "source": [
    "class PlotLosses(keras.callbacks.Callback):\n",
    "    def on_train_begin(self, logs={}):\n",
    "        self.i = 0\n",
    "        self.x = []\n",
    "        self.losses = []\n",
    "        self.val_losses = []\n",
    "        \n",
    "        self.fig = plt.figure()\n",
    "        self.logs = []\n",
    "\n",
    "    def on_epoch_end(self, epoch, logs={}):\n",
    "        \n",
    "        self.logs.append(logs)\n",
    "        self.x.append(self.i)\n",
    "        self.losses.append(logs.get('loss'))\n",
    "        #self.val_losses.append(logs.get('val_loss'))\n",
    "        self.i += 1\n",
    "        \n",
    "        clear_output(wait=True)\n",
    "        \n",
    "        plt.grid(True)\n",
    "        plt.plot(self.x, self.losses, label=\"loss\")\n",
    "        #plt.plot(self.x, self.val_losses, label=\"val_loss\")\n",
    "        plt.legend()\n",
    "        plt.show();\n",
    "        \n",
    "plot_losses = PlotLosses()"
   ]
  },
  {
   "cell_type": "code",
   "execution_count": 13,
   "metadata": {},
   "outputs": [
    {
     "data": {
      "image/png": "[encoded data removed]",
      "text/plain": [
       "<Figure size 640x480 with 1 Axes>"
      ]
     },
     "metadata": {},
     "output_type": "display_data"
    }
   ],
   "source": [
    "#callback = keras.callbacks.EarlyStopping(monitor='loss',min_delta=0.0001)\n",
    "history = model.fit(x_train, y_train, epochs=5000, batch_size=1, verbose=False, callbacks=[plot_losses])"
   ]
  },
  {
   "cell_type": "code",
   "execution_count": 14,
   "metadata": {},
   "outputs": [
    {
     "name": "stdout",
     "output_type": "stream",
     "text": [
      "loss:\t 3.826618194580078e-05\n",
      "1/1 [==============================] - 0s 107ms/step\n",
      "model:\t [0.99 0.99]\n",
      "label:\t [1. 1.]\n",
      " \n",
      "model:\t [0.01 0.01]\n",
      "label:\t [0. 0.]\n",
      " \n",
      "model:\t [0.6 0.7]\n",
      "label:\t [0.6 0.7]\n",
      " \n",
      "model:\t [0.8 0.2]\n",
      "label:\t [0.8 0.2]\n",
      " \n",
      "model:\t [0.6 0.6]\n",
      "label:\t [0.6 0.6]\n",
      " \n",
      "model:\t [0.5 0.6]\n",
      "label:\t [0.5 0.6]\n",
      " \n"
     ]
    }
   ],
   "source": [
    "print('loss:\\t', history.history['loss'][-1])\n",
    "preds = model.predict(x_train).tolist()\n",
    "for i, pred in enumerate(preds):\n",
    "    print('model:\\t', np.round(pred,2))\n",
    "    print('label:\\t', y_train[i])\n",
    "    print(' ')"
   ]
  },
  {
   "cell_type": "code",
   "execution_count": 15,
   "metadata": {
    "collapsed": true
   },
   "outputs": [],
   "source": [
    "def to_str(name, W):\n",
    "    s = str(W.tolist()).replace('[', '').replace(']', '\\n').replace(',', '\\nlong ')\n",
    "    return 'f'+name+'\\nlong ' + s + 'fEnd'+name"
   ]
  },
  {
   "cell_type": "code",
   "execution_count": 16,
   "metadata": {},
   "outputs": [
    {
     "name": "stdout",
     "output_type": "stream",
     "text": [
      "// replace these two lines in spin2 code:\n",
      "// float HiddenWeights[InputNodes+1][HiddenNodes]\n",
      "// float OutputWeights[HiddenNodes+1][OutputNodes]\n",
      "// With trained weights below.\n",
      "\n",
      "\n",
      "fHiddenWeights1\n",
      "long -1.705078125\n",
      "long  -1.0068359375\n",
      "long  -1.56640625\n",
      "long  0.86376953125\n",
      "long  -0.4248046875\n",
      "long  -1.306640625\n",
      "\n",
      "long  -0.5\n",
      "long  1.296875\n",
      "long  0.6376953125\n",
      "long  -2.310546875\n",
      "long  -1.5478515625\n",
      "long  -0.271484375\n",
      "\n",
      "long  -0.2509765625\n",
      "long  -2.041015625\n",
      "long  -1.8935546875\n",
      "long  0.85205078125\n",
      "long  -0.408447265625\n",
      "long  7.71875\n",
      "\n",
      "long  -0.7158203125\n",
      "long  0.99658203125\n",
      "long  1.4267578125\n",
      "long  -2.158203125\n",
      "long  -2.265625\n",
      "long  -1.626953125\n",
      "\n",
      "long  -1.60546875\n",
      "long  -1.4697265625\n",
      "long  -1.0693359375\n",
      "long  0.88525390625\n",
      "long  -0.2135009765625\n",
      "long  -0.60107421875\n",
      "\n",
      "long  3.05078125\n",
      "long  0.8564453125\n",
      "long  0.9990234375\n",
      "long  1.287109375\n",
      "long  2.77734375\n",
      "long  -1.4306640625\n",
      "\n",
      "fEndHiddenWeights1\n",
      "fHiddenWeights2\n",
      "long 1.13671875\n",
      "long  -3.076171875\n",
      "long  0.61279296875\n",
      "long  -1.9580078125\n",
      "long  1.6064453125\n",
      "long  0.57666015625\n",
      "\n",
      "long  -1.8203125\n",
      "long  -1.763671875\n",
      "long  0.81201171875\n",
      "long  -1.3671875\n",
      "long  2.5\n",
      "long  0.54296875\n",
      "\n",
      "long  -1.9521484375\n",
      "long  -1.3623046875\n",
      "long  0.1744384765625\n",
      "long  0.0755615234375\n",
      "long  2.515625\n",
      "long  0.5595703125\n",
      "\n",
      "long  2.583984375\n",
      "long  -2.263671875\n",
      "long  -1.1484375\n",
      "long  -0.469482421875\n",
      "long  -3.146484375\n",
      "long  -0.5087890625\n",
      "\n",
      "long  1.6201171875\n",
      "long  -3.373046875\n",
      "long  -1.4072265625\n",
      "long  -0.96728515625\n",
      "long  -1.072265625\n",
      "long  0.87109375\n",
      "\n",
      "long  -4.76171875\n",
      "long  2.384765625\n",
      "long  -1.1357421875\n",
      "long  0.25\n",
      "long  -3.724609375\n",
      "long  -2.060546875\n",
      "\n",
      "long  0.45947265625\n",
      "long  1.7294921875\n",
      "long  -0.677734375\n",
      "long  0.25\n",
      "long  0.00472259521484375\n",
      "long  0.1083984375\n",
      "\n",
      "fEndHiddenWeights2\n",
      "fOutputWeights\n",
      "long 3.89453125\n",
      "long  5.35546875\n",
      "\n",
      "long  -3.939453125\n",
      "long  -4.0\n",
      "\n",
      "long  1.36328125\n",
      "long  -0.60400390625\n",
      "\n",
      "long  -1.3779296875\n",
      "long  -0.69287109375\n",
      "\n",
      "long  4.00390625\n",
      "long  0.7392578125\n",
      "\n",
      "long  -0.88525390625\n",
      "long  1.5068359375\n",
      "\n",
      "long  -0.85107421875\n",
      "long  -1.6533203125\n",
      "\n",
      "fEndOutputWeights\n"
     ]
    }
   ],
   "source": [
    "# output weights as strings you can copy into arduino sketch\n",
    "W1 = np.vstack((K.eval(model.weights[0]), K.eval(model.weights[1])))\n",
    "W2 = np.vstack((K.eval(model.weights[2]), K.eval(model.weights[3])))\n",
    "W3 = np.vstack((K.eval(model.weights[4]), K.eval(model.weights[5])))\n",
    "\n",
    "print('// replace these two lines in spin2 code:')\n",
    "print('// float HiddenWeights[InputNodes+1][HiddenNodes]')\n",
    "print('// float OutputWeights[HiddenNodes+1][OutputNodes]')\n",
    "print('// With trained weights below.')\n",
    "print('\\n')\n",
    "print(to_str('HiddenWeights1', W1))\n",
    "print(to_str('HiddenWeights2', W2))\n",
    "print(to_str('OutputWeights', W3))"
   ]
  },
  {
   "cell_type": "code",
   "execution_count": null,
   "metadata": {
    "collapsed": true
   },
   "outputs": [],
   "source": []
  }
 ],
 "metadata": {
  "kernelspec": {
   "display_name": "Python 3",
   "language": "python",
   "name": "python3"
  },
  "language_info": {
   "codemirror_mode": {
    "name": "ipython",
    "version": 3
   },
   "file_extension": ".py",
   "mimetype": "text/x-python",
   "name": "python",
   "nbconvert_exporter": "python",
   "pygments_lexer": "ipython3",
   "version": "3.10.11"
  }
 },
 "nbformat": 4,
 "nbformat_minor": 2
}
